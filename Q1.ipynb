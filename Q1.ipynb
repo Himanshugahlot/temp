{
 "cells": [
  {
   "cell_type": "code",
   "execution_count": 1,
   "id": "32852509",
   "metadata": {},
   "outputs": [],
   "source": [
    "import pandas as pd"
   ]
  },
  {
   "cell_type": "code",
   "execution_count": 87,
   "id": "725c67e4",
   "metadata": {},
   "outputs": [],
   "source": [
    "import json\n",
    "with open(\"q1_data.json\", \"r\") as file:\n",
    "    data = json.load(file)\n",
    "\n",
    "df = pd.json_normalize(data, record_path=['user',[]], meta=['session_id', 'unix_timestamp', 'cities'])"
   ]
  },
  {
   "cell_type": "code",
   "execution_count": 88,
   "id": "064544e0",
   "metadata": {},
   "outputs": [
    {
     "data": {
      "text/plain": [
       "user_id              0\n",
       "joining_date         0\n",
       "country              0\n",
       "_row              5777\n",
       "session_id           0\n",
       "unix_timestamp       0\n",
       "cities               0\n",
       "dtype: int64"
      ]
     },
     "execution_count": 88,
     "metadata": {},
     "output_type": "execute_result"
    }
   ],
   "source": [
    "df.isna().sum()"
   ]
  },
  {
   "cell_type": "markdown",
   "id": "e9a1cfd3",
   "metadata": {},
   "source": [
    "Converting time into hours and minutes, this will help us to identify the timezone"
   ]
  },
  {
   "cell_type": "code",
   "execution_count": 89,
   "id": "525de519",
   "metadata": {},
   "outputs": [],
   "source": [
    "df['datetime_normal'] = pd.to_datetime(df['unix_timestamp'], unit='s')"
   ]
  },
  {
   "cell_type": "code",
   "execution_count": 90,
   "id": "5f536439",
   "metadata": {},
   "outputs": [
    {
     "data": {
      "text/html": [
       "<div>\n",
       "<style scoped>\n",
       "    .dataframe tbody tr th:only-of-type {\n",
       "        vertical-align: middle;\n",
       "    }\n",
       "\n",
       "    .dataframe tbody tr th {\n",
       "        vertical-align: top;\n",
       "    }\n",
       "\n",
       "    .dataframe thead th {\n",
       "        text-align: right;\n",
       "    }\n",
       "</style>\n",
       "<table border=\"1\" class=\"dataframe\">\n",
       "  <thead>\n",
       "    <tr style=\"text-align: right;\">\n",
       "      <th></th>\n",
       "      <th>user_id</th>\n",
       "      <th>joining_date</th>\n",
       "      <th>country</th>\n",
       "      <th>_row</th>\n",
       "      <th>session_id</th>\n",
       "      <th>unix_timestamp</th>\n",
       "      <th>cities</th>\n",
       "      <th>datetime_normal</th>\n",
       "    </tr>\n",
       "  </thead>\n",
       "  <tbody>\n",
       "    <tr>\n",
       "      <th>0</th>\n",
       "      <td>2024</td>\n",
       "      <td>2015-03-22</td>\n",
       "      <td>UK</td>\n",
       "      <td>NaN</td>\n",
       "      <td>X061RFWB06K9V</td>\n",
       "      <td>1442503708</td>\n",
       "      <td>New York NY, Newark NJ</td>\n",
       "      <td>2015-09-17 15:28:28</td>\n",
       "    </tr>\n",
       "    <tr>\n",
       "      <th>1</th>\n",
       "      <td>2853</td>\n",
       "      <td>2015-03-28</td>\n",
       "      <td>DE</td>\n",
       "      <td>NaN</td>\n",
       "      <td>5AZ2X2A9BHH5U</td>\n",
       "      <td>1441353991</td>\n",
       "      <td>New York NY, Jersey City NJ, Philadelphia PA</td>\n",
       "      <td>2015-09-04 08:06:31</td>\n",
       "    </tr>\n",
       "    <tr>\n",
       "      <th>2</th>\n",
       "      <td>10958</td>\n",
       "      <td>2015-03-06</td>\n",
       "      <td>UK</td>\n",
       "      <td>NaN</td>\n",
       "      <td>SHTB4IYAX4PX6</td>\n",
       "      <td>1440843490</td>\n",
       "      <td>San Antonio TX</td>\n",
       "      <td>2015-08-29 10:18:10</td>\n",
       "    </tr>\n",
       "    <tr>\n",
       "      <th>3</th>\n",
       "      <td>7693</td>\n",
       "      <td>2015-03-12</td>\n",
       "      <td>IT</td>\n",
       "      <td>NaN</td>\n",
       "      <td>JBRB8MZGTX3M4</td>\n",
       "      <td>1427268063</td>\n",
       "      <td>Edmonton AB</td>\n",
       "      <td>2015-03-25 07:21:03</td>\n",
       "    </tr>\n",
       "    <tr>\n",
       "      <th>4</th>\n",
       "      <td>7506</td>\n",
       "      <td>2015-02-28</td>\n",
       "      <td>UK</td>\n",
       "      <td>NaN</td>\n",
       "      <td>YJCMPURC2FL9C</td>\n",
       "      <td>1430559067</td>\n",
       "      <td>Phoenix AZ, Houston TX</td>\n",
       "      <td>2015-05-02 09:31:07</td>\n",
       "    </tr>\n",
       "  </tbody>\n",
       "</table>\n",
       "</div>"
      ],
      "text/plain": [
       "   user_id joining_date country _row     session_id unix_timestamp  \\\n",
       "0     2024   2015-03-22      UK  NaN  X061RFWB06K9V     1442503708   \n",
       "1     2853   2015-03-28      DE  NaN  5AZ2X2A9BHH5U     1441353991   \n",
       "2    10958   2015-03-06      UK  NaN  SHTB4IYAX4PX6     1440843490   \n",
       "3     7693   2015-03-12      IT  NaN  JBRB8MZGTX3M4     1427268063   \n",
       "4     7506   2015-02-28      UK  NaN  YJCMPURC2FL9C     1430559067   \n",
       "\n",
       "                                         cities     datetime_normal  \n",
       "0                        New York NY, Newark NJ 2015-09-17 15:28:28  \n",
       "1  New York NY, Jersey City NJ, Philadelphia PA 2015-09-04 08:06:31  \n",
       "2                                San Antonio TX 2015-08-29 10:18:10  \n",
       "3                                   Edmonton AB 2015-03-25 07:21:03  \n",
       "4                        Phoenix AZ, Houston TX 2015-05-02 09:31:07  "
      ]
     },
     "execution_count": 90,
     "metadata": {},
     "output_type": "execute_result"
    }
   ],
   "source": [
    "df.head()"
   ]
  },
  {
   "cell_type": "markdown",
   "id": "f63168e5",
   "metadata": {},
   "source": [
    "Lets see how many countries are there"
   ]
  },
  {
   "cell_type": "code",
   "execution_count": 91,
   "id": "7f8be581",
   "metadata": {},
   "outputs": [
    {
     "data": {
      "text/plain": [
       "array(['UK', 'DE', 'IT', 'ES', '', 'US', 'FR'], dtype=object)"
      ]
     },
     "execution_count": 91,
     "metadata": {},
     "output_type": "execute_result"
    }
   ],
   "source": [
    "df.country.unique()"
   ]
  },
  {
   "cell_type": "markdown",
   "id": "60dec0f0",
   "metadata": {},
   "source": [
    "This tells us the country we are looking at has a good number of user on our platform"
   ]
  },
  {
   "cell_type": "code",
   "execution_count": 92,
   "id": "5cc54626",
   "metadata": {},
   "outputs": [
    {
     "data": {
      "text/html": [
       "<div>\n",
       "<style scoped>\n",
       "    .dataframe tbody tr th:only-of-type {\n",
       "        vertical-align: middle;\n",
       "    }\n",
       "\n",
       "    .dataframe tbody tr th {\n",
       "        vertical-align: top;\n",
       "    }\n",
       "\n",
       "    .dataframe thead th {\n",
       "        text-align: right;\n",
       "    }\n",
       "</style>\n",
       "<table border=\"1\" class=\"dataframe\">\n",
       "  <thead>\n",
       "    <tr style=\"text-align: right;\">\n",
       "      <th></th>\n",
       "      <th>country</th>\n",
       "      <th>user_id</th>\n",
       "    </tr>\n",
       "  </thead>\n",
       "  <tbody>\n",
       "    <tr>\n",
       "      <th>0</th>\n",
       "      <td></td>\n",
       "      <td>792</td>\n",
       "    </tr>\n",
       "    <tr>\n",
       "      <th>1</th>\n",
       "      <td>DE</td>\n",
       "      <td>1051</td>\n",
       "    </tr>\n",
       "    <tr>\n",
       "      <th>2</th>\n",
       "      <td>ES</td>\n",
       "      <td>569</td>\n",
       "    </tr>\n",
       "    <tr>\n",
       "      <th>3</th>\n",
       "      <td>FR</td>\n",
       "      <td>665</td>\n",
       "    </tr>\n",
       "    <tr>\n",
       "      <th>4</th>\n",
       "      <td>IT</td>\n",
       "      <td>528</td>\n",
       "    </tr>\n",
       "    <tr>\n",
       "      <th>5</th>\n",
       "      <td>UK</td>\n",
       "      <td>1043</td>\n",
       "    </tr>\n",
       "    <tr>\n",
       "      <th>6</th>\n",
       "      <td>US</td>\n",
       "      <td>1129</td>\n",
       "    </tr>\n",
       "  </tbody>\n",
       "</table>\n",
       "</div>"
      ],
      "text/plain": [
       "  country  user_id\n",
       "0              792\n",
       "1      DE     1051\n",
       "2      ES      569\n",
       "3      FR      665\n",
       "4      IT      528\n",
       "5      UK     1043\n",
       "6      US     1129"
      ]
     },
     "execution_count": 92,
     "metadata": {},
     "output_type": "execute_result"
    }
   ],
   "source": [
    "df.groupby('country',as_index=False)['user_id'].nunique()"
   ]
  },
  {
   "cell_type": "markdown",
   "id": "169f450c",
   "metadata": {},
   "source": [
    "Lets analyse only the hour of surfing"
   ]
  },
  {
   "cell_type": "code",
   "execution_count": 93,
   "id": "a0e87d31",
   "metadata": {},
   "outputs": [],
   "source": [
    "df['hour_at_surfing'] = df.datetime_normal.dt.hour"
   ]
  },
  {
   "cell_type": "code",
   "execution_count": 94,
   "id": "bdb5ce5b",
   "metadata": {},
   "outputs": [],
   "source": [
    "import seaborn as sns"
   ]
  },
  {
   "cell_type": "code",
   "execution_count": 95,
   "id": "4e940a92",
   "metadata": {},
   "outputs": [
    {
     "data": {
      "text/plain": [
       "<seaborn.axisgrid.FacetGrid at 0x7fbe45c4ab20>"
      ]
     },
     "execution_count": 95,
     "metadata": {},
     "output_type": "execute_result"
    },
    {
     "data": {
      "image/png": "[encoded data removed]",
      "text/plain": [
       "<Figure size 569.5x500 with 1 Axes>"
      ]
     },
     "metadata": {},
     "output_type": "display_data"
    }
   ],
   "source": [
    "sns.displot(data=df, x='hour_at_surfing', hue='country', kde=True)"
   ]
  },
  {
   "cell_type": "markdown",
   "id": "396f8bb8",
   "metadata": {},
   "source": [
    "This graph shows us almost every country is having normal distribution, this is good news for us as we can be sure of timezone of the missing country"
   ]
  },
  {
   "cell_type": "code",
   "execution_count": 96,
   "id": "fa28c59d",
   "metadata": {},
   "outputs": [
    {
     "data": {
      "text/html": [
       "<div>\n",
       "<style scoped>\n",
       "    .dataframe tbody tr th:only-of-type {\n",
       "        vertical-align: middle;\n",
       "    }\n",
       "\n",
       "    .dataframe tbody tr th {\n",
       "        vertical-align: top;\n",
       "    }\n",
       "\n",
       "    .dataframe thead tr th {\n",
       "        text-align: left;\n",
       "    }\n",
       "\n",
       "    .dataframe thead tr:last-of-type th {\n",
       "        text-align: right;\n",
       "    }\n",
       "</style>\n",
       "<table border=\"1\" class=\"dataframe\">\n",
       "  <thead>\n",
       "    <tr>\n",
       "      <th></th>\n",
       "      <th colspan=\"4\" halign=\"left\">hour_at_surfing</th>\n",
       "    </tr>\n",
       "    <tr>\n",
       "      <th></th>\n",
       "      <th>mean</th>\n",
       "      <th>median</th>\n",
       "      <th>min</th>\n",
       "      <th>max</th>\n",
       "    </tr>\n",
       "    <tr>\n",
       "      <th>country</th>\n",
       "      <th></th>\n",
       "      <th></th>\n",
       "      <th></th>\n",
       "      <th></th>\n",
       "    </tr>\n",
       "  </thead>\n",
       "  <tbody>\n",
       "    <tr>\n",
       "      <th></th>\n",
       "      <td>6.580142</td>\n",
       "      <td>7.0</td>\n",
       "      <td>0</td>\n",
       "      <td>16</td>\n",
       "    </tr>\n",
       "    <tr>\n",
       "      <th>DE</th>\n",
       "      <td>10.987356</td>\n",
       "      <td>11.0</td>\n",
       "      <td>2</td>\n",
       "      <td>20</td>\n",
       "    </tr>\n",
       "    <tr>\n",
       "      <th>ES</th>\n",
       "      <td>10.837686</td>\n",
       "      <td>11.0</td>\n",
       "      <td>3</td>\n",
       "      <td>21</td>\n",
       "    </tr>\n",
       "    <tr>\n",
       "      <th>FR</th>\n",
       "      <td>11.037424</td>\n",
       "      <td>11.0</td>\n",
       "      <td>2</td>\n",
       "      <td>20</td>\n",
       "    </tr>\n",
       "    <tr>\n",
       "      <th>IT</th>\n",
       "      <td>11.007970</td>\n",
       "      <td>11.0</td>\n",
       "      <td>2</td>\n",
       "      <td>19</td>\n",
       "    </tr>\n",
       "    <tr>\n",
       "      <th>UK</th>\n",
       "      <td>11.959212</td>\n",
       "      <td>12.0</td>\n",
       "      <td>3</td>\n",
       "      <td>22</td>\n",
       "    </tr>\n",
       "    <tr>\n",
       "      <th>US</th>\n",
       "      <td>16.784830</td>\n",
       "      <td>18.0</td>\n",
       "      <td>0</td>\n",
       "      <td>23</td>\n",
       "    </tr>\n",
       "  </tbody>\n",
       "</table>\n",
       "</div>"
      ],
      "text/plain": [
       "        hour_at_surfing               \n",
       "                   mean median min max\n",
       "country                               \n",
       "               6.580142    7.0   0  16\n",
       "DE            10.987356   11.0   2  20\n",
       "ES            10.837686   11.0   3  21\n",
       "FR            11.037424   11.0   2  20\n",
       "IT            11.007970   11.0   2  19\n",
       "UK            11.959212   12.0   3  22\n",
       "US            16.784830   18.0   0  23"
      ]
     },
     "execution_count": 96,
     "metadata": {},
     "output_type": "execute_result"
    }
   ],
   "source": [
    "df.groupby('country').agg({'hour_at_surfing':['mean', 'median', 'min', 'max']})"
   ]
  },
  {
   "cell_type": "markdown",
   "id": "6cb8e3c3",
   "metadata": {},
   "source": [
    "This time/hour is based on UTC, hence this shows time based on GMT, using which we can narrow down our search to those contries of the world. We can assume from the data that we always get the median value during 12 PM as per local time. With this assumption\n",
    "\n",
    "If we see the timings here:\n",
    "    \n",
    "DE -> Germany -> +1 hour to GMT -> 11 AM UTC -> 12 PM in Germany\n",
    "    \n",
    "ES -> Spain -> +1 hour to GMT -> 11 AM UTC -> 12 PM in Spain\n",
    "    \n",
    "FR -> France -> +1 hour to GMT -> 11 AM UTC -> 12 PM in France\n",
    "    \n",
    "IT -> Italy -> +1 hour to GMT -> 11 AM UTC -> 12 PM in Italy\n",
    "    \n",
    "UK -> United Kingdom -> 0 hour to GMT -> 12 PM UTC -> 12 PM in United Kingdom\n",
    "    \n",
    "US -> United States -> -5 hour to GMT -> 18 AM UTC -> 1 PM in United States\n",
    "    \n",
    "\"\" -> UNKNOWN -> +5 hour to GMT -> 7 AM UTC -> 12 PM in **`[Kazakhstan, Maldives, Pakistan, Tajikistan, Turkmenistan, Uzbekistan]`**\n",
    "    "
   ]
  },
  {
   "cell_type": "markdown",
   "id": "c173a55d",
   "metadata": {},
   "source": [
    "### Part 1 -> Missing country could be any of the following\n",
    "\n",
    "**`[Kazakhstan, Maldives, Pakistan, Tajikistan, Turkmenistan, Uzbekistan]`**"
   ]
  },
  {
   "cell_type": "markdown",
   "id": "fdc19371",
   "metadata": {},
   "source": [
    "Lets look at the city frequency"
   ]
  },
  {
   "cell_type": "code",
   "execution_count": 97,
   "id": "98274e5f",
   "metadata": {},
   "outputs": [],
   "source": [
    "import itertools\n",
    "\n",
    "def get_city_pairs(city_string):\n",
    "    cities = city_string.split(', ')\n",
    "    return list(itertools.combinations(cities, 2))\n",
    "\n",
    "df['city_pairs'] = df['cities'].apply(get_city_pairs)\n",
    "df_exploded = df.explode('city_pairs')\n",
    "freq = df_exploded.groupby('city_pairs').size().reset_index(name='freq')\n",
    "freq = freq[freq['freq'] > 1].sort_values('freq', ascending=False)"
   ]
  },
  {
   "cell_type": "markdown",
   "id": "16181370",
   "metadata": {},
   "source": [
    "### Part 2 -> Most likely searched city, in pair [when order of search doesn't matter]"
   ]
  },
  {
   "cell_type": "code",
   "execution_count": 98,
   "id": "216c0e8b",
   "metadata": {},
   "outputs": [
    {
     "data": {
      "text/html": [
       "<div>\n",
       "<style scoped>\n",
       "    .dataframe tbody tr th:only-of-type {\n",
       "        vertical-align: middle;\n",
       "    }\n",
       "\n",
       "    .dataframe tbody tr th {\n",
       "        vertical-align: top;\n",
       "    }\n",
       "\n",
       "    .dataframe thead th {\n",
       "        text-align: right;\n",
       "    }\n",
       "</style>\n",
       "<table border=\"1\" class=\"dataframe\">\n",
       "  <thead>\n",
       "    <tr style=\"text-align: right;\">\n",
       "      <th></th>\n",
       "      <th>city_pairs</th>\n",
       "      <th>freq</th>\n",
       "    </tr>\n",
       "  </thead>\n",
       "  <tbody>\n",
       "    <tr>\n",
       "      <th>487</th>\n",
       "      <td>(New York NY, Jersey City NJ)</td>\n",
       "      <td>537</td>\n",
       "    </tr>\n",
       "    <tr>\n",
       "      <th>490</th>\n",
       "      <td>(New York NY, Newark NJ)</td>\n",
       "      <td>419</td>\n",
       "    </tr>\n",
       "    <tr>\n",
       "      <th>494</th>\n",
       "      <td>(New York NY, Philadelphia PA)</td>\n",
       "      <td>321</td>\n",
       "    </tr>\n",
       "    <tr>\n",
       "      <th>737</th>\n",
       "      <td>(Toronto ON, Saint Catharines-Niagara ON)</td>\n",
       "      <td>258</td>\n",
       "    </tr>\n",
       "    <tr>\n",
       "      <th>736</th>\n",
       "      <td>(Toronto ON, Oshawa ON)</td>\n",
       "      <td>254</td>\n",
       "    </tr>\n",
       "    <tr>\n",
       "      <th>...</th>\n",
       "      <td>...</td>\n",
       "      <td>...</td>\n",
       "    </tr>\n",
       "    <tr>\n",
       "      <th>536</th>\n",
       "      <td>(Oakland CA, Fresno CA)</td>\n",
       "      <td>2</td>\n",
       "    </tr>\n",
       "    <tr>\n",
       "      <th>259</th>\n",
       "      <td>(Halifax NS, Boston MA)</td>\n",
       "      <td>2</td>\n",
       "    </tr>\n",
       "    <tr>\n",
       "      <th>87</th>\n",
       "      <td>(Chandler AZ, Glendale AZ)</td>\n",
       "      <td>2</td>\n",
       "    </tr>\n",
       "    <tr>\n",
       "      <th>544</th>\n",
       "      <td>(Oklahoma City OK, Plano TX)</td>\n",
       "      <td>2</td>\n",
       "    </tr>\n",
       "    <tr>\n",
       "      <th>397</th>\n",
       "      <td>(Louisville KY, Nashville TN)</td>\n",
       "      <td>2</td>\n",
       "    </tr>\n",
       "  </tbody>\n",
       "</table>\n",
       "<p>619 rows × 2 columns</p>\n",
       "</div>"
      ],
      "text/plain": [
       "                                    city_pairs  freq\n",
       "487              (New York NY, Jersey City NJ)   537\n",
       "490                   (New York NY, Newark NJ)   419\n",
       "494             (New York NY, Philadelphia PA)   321\n",
       "737  (Toronto ON, Saint Catharines-Niagara ON)   258\n",
       "736                    (Toronto ON, Oshawa ON)   254\n",
       "..                                         ...   ...\n",
       "536                    (Oakland CA, Fresno CA)     2\n",
       "259                    (Halifax NS, Boston MA)     2\n",
       "87                  (Chandler AZ, Glendale AZ)     2\n",
       "544               (Oklahoma City OK, Plano TX)     2\n",
       "397              (Louisville KY, Nashville TN)     2\n",
       "\n",
       "[619 rows x 2 columns]"
      ]
     },
     "execution_count": 98,
     "metadata": {},
     "output_type": "execute_result"
    }
   ],
   "source": [
    "freq"
   ]
  },
  {
   "cell_type": "code",
   "execution_count": 122,
   "id": "ddf29151",
   "metadata": {},
   "outputs": [],
   "source": [
    "from geopy.geocoders import Nominatim\n",
    "from geopy.distance import geodesic\n",
    "\n",
    "geolocator = Nominatim(user_agent=\"cal_geo_dist\")\n",
    "\n",
    "def get_distance(city_pair):\n",
    "    if isinstance(city_pair, (list, tuple)):\n",
    "        city1 = city_pair[0]\n",
    "        city2 = city_pair[1]\n",
    "        try:\n",
    "            location1 = geolocator.geocode(city1)\n",
    "            location2 = geolocator.geocode(city2)\n",
    "            distance = geodesic((location1.latitude, location1.longitude), (location2.latitude, location2.longitude)).miles\n",
    "        except:\n",
    "            distance = None\n",
    "    else:\n",
    "        distance = None\n",
    "    return distance\n",
    "\n",
    "df_exploded['distance'] = df_exploded['city_pairs'].apply(get_distance)\n"
   ]
  },
  {
   "cell_type": "code",
   "execution_count": 132,
   "id": "f8b42295",
   "metadata": {},
   "outputs": [
    {
     "data": {
      "text/html": [
       "<div>\n",
       "<style scoped>\n",
       "    .dataframe tbody tr th:only-of-type {\n",
       "        vertical-align: middle;\n",
       "    }\n",
       "\n",
       "    .dataframe tbody tr th {\n",
       "        vertical-align: top;\n",
       "    }\n",
       "\n",
       "    .dataframe thead th {\n",
       "        text-align: right;\n",
       "    }\n",
       "</style>\n",
       "<table border=\"1\" class=\"dataframe\">\n",
       "  <thead>\n",
       "    <tr style=\"text-align: right;\">\n",
       "      <th></th>\n",
       "      <th>user_id</th>\n",
       "      <th>joining_date</th>\n",
       "      <th>country</th>\n",
       "      <th>_row</th>\n",
       "      <th>session_id</th>\n",
       "      <th>unix_timestamp</th>\n",
       "      <th>cities</th>\n",
       "      <th>datetime_normal</th>\n",
       "      <th>hour_at_surfing</th>\n",
       "      <th>city_pairs</th>\n",
       "      <th>distance</th>\n",
       "    </tr>\n",
       "  </thead>\n",
       "  <tbody>\n",
       "    <tr>\n",
       "      <th>0</th>\n",
       "      <td>2024</td>\n",
       "      <td>2015-03-22</td>\n",
       "      <td>UK</td>\n",
       "      <td>NaN</td>\n",
       "      <td>X061RFWB06K9V</td>\n",
       "      <td>1442503708</td>\n",
       "      <td>New York NY, Newark NJ</td>\n",
       "      <td>2015-09-17 15:28:28</td>\n",
       "      <td>15</td>\n",
       "      <td>(New York NY, Newark NJ)</td>\n",
       "      <td>8.875033</td>\n",
       "    </tr>\n",
       "    <tr>\n",
       "      <th>1</th>\n",
       "      <td>2853</td>\n",
       "      <td>2015-03-28</td>\n",
       "      <td>DE</td>\n",
       "      <td>NaN</td>\n",
       "      <td>5AZ2X2A9BHH5U</td>\n",
       "      <td>1441353991</td>\n",
       "      <td>New York NY, Jersey City NJ, Philadelphia PA</td>\n",
       "      <td>2015-09-04 08:06:31</td>\n",
       "      <td>8</td>\n",
       "      <td>(New York NY, Jersey City NJ)</td>\n",
       "      <td>2.259566</td>\n",
       "    </tr>\n",
       "    <tr>\n",
       "      <th>1</th>\n",
       "      <td>2853</td>\n",
       "      <td>2015-03-28</td>\n",
       "      <td>DE</td>\n",
       "      <td>NaN</td>\n",
       "      <td>5AZ2X2A9BHH5U</td>\n",
       "      <td>1441353991</td>\n",
       "      <td>New York NY, Jersey City NJ, Philadelphia PA</td>\n",
       "      <td>2015-09-04 08:06:31</td>\n",
       "      <td>8</td>\n",
       "      <td>(New York NY, Philadelphia PA)</td>\n",
       "      <td>80.530832</td>\n",
       "    </tr>\n",
       "    <tr>\n",
       "      <th>1</th>\n",
       "      <td>2853</td>\n",
       "      <td>2015-03-28</td>\n",
       "      <td>DE</td>\n",
       "      <td>NaN</td>\n",
       "      <td>5AZ2X2A9BHH5U</td>\n",
       "      <td>1441353991</td>\n",
       "      <td>New York NY, Jersey City NJ, Philadelphia PA</td>\n",
       "      <td>2015-09-04 08:06:31</td>\n",
       "      <td>8</td>\n",
       "      <td>(Jersey City NJ, Philadelphia PA)</td>\n",
       "      <td>79.287032</td>\n",
       "    </tr>\n",
       "    <tr>\n",
       "      <th>2</th>\n",
       "      <td>10958</td>\n",
       "      <td>2015-03-06</td>\n",
       "      <td>UK</td>\n",
       "      <td>NaN</td>\n",
       "      <td>SHTB4IYAX4PX6</td>\n",
       "      <td>1440843490</td>\n",
       "      <td>San Antonio TX</td>\n",
       "      <td>2015-08-29 10:18:10</td>\n",
       "      <td>10</td>\n",
       "      <td>NaN</td>\n",
       "      <td>NaN</td>\n",
       "    </tr>\n",
       "    <tr>\n",
       "      <th>...</th>\n",
       "      <td>...</td>\n",
       "      <td>...</td>\n",
       "      <td>...</td>\n",
       "      <td>...</td>\n",
       "      <td>...</td>\n",
       "      <td>...</td>\n",
       "      <td>...</td>\n",
       "      <td>...</td>\n",
       "      <td>...</td>\n",
       "      <td>...</td>\n",
       "      <td>...</td>\n",
       "    </tr>\n",
       "    <tr>\n",
       "      <th>20017</th>\n",
       "      <td>4360</td>\n",
       "      <td>2015-03-21</td>\n",
       "      <td></td>\n",
       "      <td>4235.4</td>\n",
       "      <td>17WJGZOEFEI4W</td>\n",
       "      <td>1430545204</td>\n",
       "      <td>Chicago IL, Montreal QC</td>\n",
       "      <td>2015-05-02 05:40:04</td>\n",
       "      <td>5</td>\n",
       "      <td>(Chicago IL, Montreal QC)</td>\n",
       "      <td>746.099253</td>\n",
       "    </tr>\n",
       "    <tr>\n",
       "      <th>20018</th>\n",
       "      <td>2057</td>\n",
       "      <td>2015-03-22</td>\n",
       "      <td>IT</td>\n",
       "      <td>3341.3</td>\n",
       "      <td>9HCZDQMGU5Z2G</td>\n",
       "      <td>1434444360</td>\n",
       "      <td>Chicago IL</td>\n",
       "      <td>2015-06-16 08:46:00</td>\n",
       "      <td>8</td>\n",
       "      <td>NaN</td>\n",
       "      <td>NaN</td>\n",
       "    </tr>\n",
       "    <tr>\n",
       "      <th>20019</th>\n",
       "      <td>1203</td>\n",
       "      <td>2015-02-28</td>\n",
       "      <td>IT</td>\n",
       "      <td>2001.6</td>\n",
       "      <td>73ZWORX75Y9A0</td>\n",
       "      <td>1438584470</td>\n",
       "      <td>Chicago IL</td>\n",
       "      <td>2015-08-03 06:47:50</td>\n",
       "      <td>6</td>\n",
       "      <td>NaN</td>\n",
       "      <td>NaN</td>\n",
       "    </tr>\n",
       "    <tr>\n",
       "      <th>20020</th>\n",
       "      <td>3699</td>\n",
       "      <td>2015-03-24</td>\n",
       "      <td>ES</td>\n",
       "      <td>2473.5</td>\n",
       "      <td>DMWGV9HY74G9T</td>\n",
       "      <td>1435235491</td>\n",
       "      <td>Calgary AB, New York NY</td>\n",
       "      <td>2015-06-25 12:31:31</td>\n",
       "      <td>12</td>\n",
       "      <td>(Calgary AB, New York NY)</td>\n",
       "      <td>2030.151846</td>\n",
       "    </tr>\n",
       "    <tr>\n",
       "      <th>20021</th>\n",
       "      <td>2375</td>\n",
       "      <td>2015-03-29</td>\n",
       "      <td>DE</td>\n",
       "      <td>4185.3</td>\n",
       "      <td>TVJS9Z6EZDPEA</td>\n",
       "      <td>1430989393</td>\n",
       "      <td>San Jose CA</td>\n",
       "      <td>2015-05-07 09:03:13</td>\n",
       "      <td>9</td>\n",
       "      <td>NaN</td>\n",
       "      <td>NaN</td>\n",
       "    </tr>\n",
       "  </tbody>\n",
       "</table>\n",
       "<p>29036 rows × 11 columns</p>\n",
       "</div>"
      ],
      "text/plain": [
       "       user_id joining_date country    _row     session_id unix_timestamp  \\\n",
       "0         2024   2015-03-22      UK     NaN  X061RFWB06K9V     1442503708   \n",
       "1         2853   2015-03-28      DE     NaN  5AZ2X2A9BHH5U     1441353991   \n",
       "1         2853   2015-03-28      DE     NaN  5AZ2X2A9BHH5U     1441353991   \n",
       "1         2853   2015-03-28      DE     NaN  5AZ2X2A9BHH5U     1441353991   \n",
       "2        10958   2015-03-06      UK     NaN  SHTB4IYAX4PX6     1440843490   \n",
       "...        ...          ...     ...     ...            ...            ...   \n",
       "20017     4360   2015-03-21          4235.4  17WJGZOEFEI4W     1430545204   \n",
       "20018     2057   2015-03-22      IT  3341.3  9HCZDQMGU5Z2G     1434444360   \n",
       "20019     1203   2015-02-28      IT  2001.6  73ZWORX75Y9A0     1438584470   \n",
       "20020     3699   2015-03-24      ES  2473.5  DMWGV9HY74G9T     1435235491   \n",
       "20021     2375   2015-03-29      DE  4185.3  TVJS9Z6EZDPEA     1430989393   \n",
       "\n",
       "                                             cities     datetime_normal  \\\n",
       "0                            New York NY, Newark NJ 2015-09-17 15:28:28   \n",
       "1      New York NY, Jersey City NJ, Philadelphia PA 2015-09-04 08:06:31   \n",
       "1      New York NY, Jersey City NJ, Philadelphia PA 2015-09-04 08:06:31   \n",
       "1      New York NY, Jersey City NJ, Philadelphia PA 2015-09-04 08:06:31   \n",
       "2                                    San Antonio TX 2015-08-29 10:18:10   \n",
       "...                                             ...                 ...   \n",
       "20017                       Chicago IL, Montreal QC 2015-05-02 05:40:04   \n",
       "20018                                    Chicago IL 2015-06-16 08:46:00   \n",
       "20019                                    Chicago IL 2015-08-03 06:47:50   \n",
       "20020                       Calgary AB, New York NY 2015-06-25 12:31:31   \n",
       "20021                                   San Jose CA 2015-05-07 09:03:13   \n",
       "\n",
       "       hour_at_surfing                         city_pairs     distance  \n",
       "0                   15           (New York NY, Newark NJ)     8.875033  \n",
       "1                    8      (New York NY, Jersey City NJ)     2.259566  \n",
       "1                    8     (New York NY, Philadelphia PA)    80.530832  \n",
       "1                    8  (Jersey City NJ, Philadelphia PA)    79.287032  \n",
       "2                   10                                NaN          NaN  \n",
       "...                ...                                ...          ...  \n",
       "20017                5          (Chicago IL, Montreal QC)   746.099253  \n",
       "20018                8                                NaN          NaN  \n",
       "20019                6                                NaN          NaN  \n",
       "20020               12          (Calgary AB, New York NY)  2030.151846  \n",
       "20021                9                                NaN          NaN  \n",
       "\n",
       "[29036 rows x 11 columns]"
      ]
     },
     "execution_count": 132,
     "metadata": {},
     "output_type": "execute_result"
    }
   ],
   "source": [
    "df_exploded"
   ]
  },
  {
   "cell_type": "code",
   "execution_count": 124,
   "id": "f96986fe",
   "metadata": {},
   "outputs": [
    {
     "data": {
      "text/html": [
       "<div>\n",
       "<style scoped>\n",
       "    .dataframe tbody tr th:only-of-type {\n",
       "        vertical-align: middle;\n",
       "    }\n",
       "\n",
       "    .dataframe tbody tr th {\n",
       "        vertical-align: top;\n",
       "    }\n",
       "\n",
       "    .dataframe thead th {\n",
       "        text-align: right;\n",
       "    }\n",
       "</style>\n",
       "<table border=\"1\" class=\"dataframe\">\n",
       "  <thead>\n",
       "    <tr style=\"text-align: right;\">\n",
       "      <th></th>\n",
       "      <th>user_id</th>\n",
       "      <th>joining_date</th>\n",
       "      <th>country</th>\n",
       "      <th>_row</th>\n",
       "      <th>session_id</th>\n",
       "      <th>unix_timestamp</th>\n",
       "      <th>cities</th>\n",
       "      <th>datetime_normal</th>\n",
       "      <th>hour_at_surfing</th>\n",
       "      <th>city_pairs</th>\n",
       "      <th>distance</th>\n",
       "    </tr>\n",
       "  </thead>\n",
       "  <tbody>\n",
       "  </tbody>\n",
       "</table>\n",
       "</div>"
      ],
      "text/plain": [
       "Empty DataFrame\n",
       "Columns: [user_id, joining_date, country, _row, session_id, unix_timestamp, cities, datetime_normal, hour_at_surfing, city_pairs, distance]\n",
       "Index: []"
      ]
     },
     "execution_count": 124,
     "metadata": {},
     "output_type": "execute_result"
    }
   ],
   "source": [
    "df_exploded[(df_exploded.city_pairs.isna()) & (~df_exploded.distance.isna())]"
   ]
  },
  {
   "cell_type": "code",
   "execution_count": 153,
   "id": "8e0b02e7",
   "metadata": {},
   "outputs": [
    {
     "data": {
      "text/plain": [
       "<AxesSubplot: xlabel='distance', ylabel='Count'>"
      ]
     },
     "execution_count": 153,
     "metadata": {},
     "output_type": "execute_result"
    },
    {
     "data": {
      "image/png": "[encoded data removed]",
      "text/plain": [
       "<Figure size 640x480 with 1 Axes>"
      ]
     },
     "metadata": {},
     "output_type": "display_data"
    }
   ],
   "source": [
    "t = df_exploded.reset_index(drop=True)\n",
    "sns.histplot(data=t, x='distance', kde=True)"
   ]
  },
  {
   "cell_type": "code",
   "execution_count": 184,
   "id": "b80c9403",
   "metadata": {},
   "outputs": [
    {
     "data": {
      "text/html": [
       "<div>\n",
       "<style scoped>\n",
       "    .dataframe tbody tr th:only-of-type {\n",
       "        vertical-align: middle;\n",
       "    }\n",
       "\n",
       "    .dataframe tbody tr th {\n",
       "        vertical-align: top;\n",
       "    }\n",
       "\n",
       "    .dataframe thead th {\n",
       "        text-align: right;\n",
       "    }\n",
       "</style>\n",
       "<table border=\"1\" class=\"dataframe\">\n",
       "  <thead>\n",
       "    <tr style=\"text-align: right;\">\n",
       "      <th></th>\n",
       "      <th>session_id</th>\n",
       "      <th>country</th>\n",
       "      <th>distance</th>\n",
       "      <th>city_pairs</th>\n",
       "    </tr>\n",
       "  </thead>\n",
       "  <tbody>\n",
       "    <tr>\n",
       "      <th>0</th>\n",
       "      <td>0004TZ56GY6S7</td>\n",
       "      <td>DE</td>\n",
       "      <td>2432.915569</td>\n",
       "      <td>1</td>\n",
       "    </tr>\n",
       "    <tr>\n",
       "      <th>1</th>\n",
       "      <td>004M08GLQ7ZXH</td>\n",
       "      <td>US</td>\n",
       "      <td>NaN</td>\n",
       "      <td>0</td>\n",
       "    </tr>\n",
       "    <tr>\n",
       "      <th>2</th>\n",
       "      <td>007O320DQ7AXT</td>\n",
       "      <td></td>\n",
       "      <td>NaN</td>\n",
       "      <td>0</td>\n",
       "    </tr>\n",
       "    <tr>\n",
       "      <th>3</th>\n",
       "      <td>007UIISVZJOW5</td>\n",
       "      <td>DE</td>\n",
       "      <td>NaN</td>\n",
       "      <td>0</td>\n",
       "    </tr>\n",
       "    <tr>\n",
       "      <th>4</th>\n",
       "      <td>008ZL2D1PLC4O</td>\n",
       "      <td>US</td>\n",
       "      <td>712.548448</td>\n",
       "      <td>1</td>\n",
       "    </tr>\n",
       "    <tr>\n",
       "      <th>...</th>\n",
       "      <td>...</td>\n",
       "      <td>...</td>\n",
       "      <td>...</td>\n",
       "      <td>...</td>\n",
       "    </tr>\n",
       "    <tr>\n",
       "      <th>20017</th>\n",
       "      <td>ZZS8OMNGVGEGV</td>\n",
       "      <td>DE</td>\n",
       "      <td>NaN</td>\n",
       "      <td>0</td>\n",
       "    </tr>\n",
       "    <tr>\n",
       "      <th>20018</th>\n",
       "      <td>ZZV3W3ZE2R0W8</td>\n",
       "      <td></td>\n",
       "      <td>NaN</td>\n",
       "      <td>0</td>\n",
       "    </tr>\n",
       "    <tr>\n",
       "      <th>20019</th>\n",
       "      <td>ZZWVLD5228M5Z</td>\n",
       "      <td>IT</td>\n",
       "      <td>NaN</td>\n",
       "      <td>0</td>\n",
       "    </tr>\n",
       "    <tr>\n",
       "      <th>20020</th>\n",
       "      <td>ZZWX86DF4JBLT</td>\n",
       "      <td>ES</td>\n",
       "      <td>31.010842</td>\n",
       "      <td>1</td>\n",
       "    </tr>\n",
       "    <tr>\n",
       "      <th>20021</th>\n",
       "      <td>ZZZGT1H4I13GM</td>\n",
       "      <td>DE</td>\n",
       "      <td>520.747435</td>\n",
       "      <td>1</td>\n",
       "    </tr>\n",
       "  </tbody>\n",
       "</table>\n",
       "<p>20022 rows × 4 columns</p>\n",
       "</div>"
      ],
      "text/plain": [
       "          session_id country     distance  city_pairs\n",
       "0      0004TZ56GY6S7      DE  2432.915569           1\n",
       "1      004M08GLQ7ZXH      US          NaN           0\n",
       "2      007O320DQ7AXT                  NaN           0\n",
       "3      007UIISVZJOW5      DE          NaN           0\n",
       "4      008ZL2D1PLC4O      US   712.548448           1\n",
       "...              ...     ...          ...         ...\n",
       "20017  ZZS8OMNGVGEGV      DE          NaN           0\n",
       "20018  ZZV3W3ZE2R0W8                  NaN           0\n",
       "20019  ZZWVLD5228M5Z      IT          NaN           0\n",
       "20020  ZZWX86DF4JBLT      ES    31.010842           1\n",
       "20021  ZZZGT1H4I13GM      DE   520.747435           1\n",
       "\n",
       "[20022 rows x 4 columns]"
      ]
     },
     "execution_count": 184,
     "metadata": {},
     "output_type": "execute_result"
    }
   ],
   "source": [
    "df_dist_session = df_exploded.groupby(['session_id', 'country'], as_index=False).agg({'distance':'mean', 'city_pairs':'count'})\n",
    "df_dist_session"
   ]
  },
  {
   "cell_type": "code",
   "execution_count": 185,
   "id": "c243b71c",
   "metadata": {
    "scrolled": true
   },
   "outputs": [
    {
     "name": "stderr",
     "output_type": "stream",
     "text": [
      "/var/folders/6m/c_j082tx0tv_95l5l85yr36r0000gp/T/ipykernel_17883/354294520.py:1: SettingWithCopyWarning: \n",
      "A value is trying to be set on a copy of a slice from a DataFrame\n",
      "\n",
      "See the caveats in the documentation: https://pandas.pydata.org/pandas-docs/stable/user_guide/indexing.html#returning-a-view-versus-a-copy\n",
      "  df_dist_session.city_pairs[df_dist_session.city_pairs<2] += 1\n"
     ]
    }
   ],
   "source": [
    "df_dist_session.city_pairs[df_dist_session.city_pairs<2] += 1"
   ]
  },
  {
   "cell_type": "code",
   "execution_count": 186,
   "id": "47b3e19d",
   "metadata": {
    "scrolled": true
   },
   "outputs": [
    {
     "data": {
      "text/plain": [
       "count    18363.000000\n",
       "mean       440.744134\n",
       "std        676.091572\n",
       "min          1.127851\n",
       "25%         53.228893\n",
       "50%        147.225281\n",
       "75%        348.418752\n",
       "max       2555.200813\n",
       "Name: distance, dtype: float64"
      ]
     },
     "execution_count": 186,
     "metadata": {},
     "output_type": "execute_result"
    }
   ],
   "source": [
    "df_exploded.distance.describe()"
   ]
  },
  {
   "cell_type": "code",
   "execution_count": 187,
   "id": "9675d52f",
   "metadata": {},
   "outputs": [
    {
     "data": {
      "text/plain": [
       "<AxesSubplot: xlabel='distance', ylabel='Count'>"
      ]
     },
     "execution_count": 187,
     "metadata": {},
     "output_type": "execute_result"
    },
    {
     "data": {
      "image/png": "[encoded data removed]",
      "text/plain": [
       "<Figure size 640x480 with 1 Axes>"
      ]
     },
     "metadata": {},
     "output_type": "display_data"
    }
   ],
   "source": [
    "sns.histplot(data=df_dist_session, x='distance', kde=True, bins=60, hue='country')"
   ]
  },
  {
   "cell_type": "code",
   "execution_count": 188,
   "id": "85af3e5d",
   "metadata": {},
   "outputs": [
    {
     "data": {
      "text/plain": [
       "<AxesSubplot: xlabel='country', ylabel='distance'>"
      ]
     },
     "execution_count": 188,
     "metadata": {},
     "output_type": "execute_result"
    },
    {
     "data": {
      "image/png": "[encoded data removed]",
      "text/plain": [
       "<Figure size 640x480 with 1 Axes>"
      ]
     },
     "metadata": {},
     "output_type": "display_data"
    }
   ],
   "source": [
    "sns.violinplot(data=df_dist_session, x='country', y='distance')"
   ]
  },
  {
   "cell_type": "code",
   "execution_count": 189,
   "id": "f8465e95",
   "metadata": {},
   "outputs": [
    {
     "data": {
      "text/plain": [
       "<AxesSubplot: xlabel='city_pairs', ylabel='country'>"
      ]
     },
     "execution_count": 189,
     "metadata": {},
     "output_type": "execute_result"
    },
    {
     "data": {
      "image/png": "[encoded data removed]",
      "text/plain": [
       "<Figure size 640x480 with 1 Axes>"
      ]
     },
     "metadata": {},
     "output_type": "display_data"
    }
   ],
   "source": [
    "sns.violinplot(data=df_dist_session, y='country', x='city_pairs')"
   ]
  },
  {
   "cell_type": "code",
   "execution_count": 190,
   "id": "0ba5212a",
   "metadata": {},
   "outputs": [
    {
     "data": {
      "text/plain": [
       "<AxesSubplot: xlabel='city_pairs', ylabel='distance'>"
      ]
     },
     "execution_count": 190,
     "metadata": {},
     "output_type": "execute_result"
    },
    {
     "data": {
      "image/png": "[encoded data removed]",
      "text/plain": [
       "<Figure size 640x480 with 1 Axes>"
      ]
     },
     "metadata": {},
     "output_type": "display_data"
    }
   ],
   "source": [
    "sns.scatterplot(data=df_dist_session, y='distance', x='city_pairs')"
   ]
  },
  {
   "cell_type": "code",
   "execution_count": 202,
   "id": "f6b997ed",
   "metadata": {},
   "outputs": [
    {
     "data": {
      "text/html": [
       "<div>\n",
       "<style scoped>\n",
       "    .dataframe tbody tr th:only-of-type {\n",
       "        vertical-align: middle;\n",
       "    }\n",
       "\n",
       "    .dataframe tbody tr th {\n",
       "        vertical-align: top;\n",
       "    }\n",
       "\n",
       "    .dataframe thead th {\n",
       "        text-align: right;\n",
       "    }\n",
       "</style>\n",
       "<table border=\"1\" class=\"dataframe\">\n",
       "  <thead>\n",
       "    <tr style=\"text-align: right;\">\n",
       "      <th></th>\n",
       "      <th>session_id</th>\n",
       "      <th>country</th>\n",
       "      <th>distance</th>\n",
       "      <th>city_pairs</th>\n",
       "    </tr>\n",
       "  </thead>\n",
       "  <tbody>\n",
       "    <tr>\n",
       "      <th>0</th>\n",
       "      <td>0004TZ56GY6S7</td>\n",
       "      <td>DE</td>\n",
       "      <td>2432.915569</td>\n",
       "      <td>2</td>\n",
       "    </tr>\n",
       "    <tr>\n",
       "      <th>1</th>\n",
       "      <td>004M08GLQ7ZXH</td>\n",
       "      <td>US</td>\n",
       "      <td>NaN</td>\n",
       "      <td>1</td>\n",
       "    </tr>\n",
       "    <tr>\n",
       "      <th>2</th>\n",
       "      <td>007O320DQ7AXT</td>\n",
       "      <td></td>\n",
       "      <td>NaN</td>\n",
       "      <td>1</td>\n",
       "    </tr>\n",
       "    <tr>\n",
       "      <th>3</th>\n",
       "      <td>007UIISVZJOW5</td>\n",
       "      <td>DE</td>\n",
       "      <td>NaN</td>\n",
       "      <td>1</td>\n",
       "    </tr>\n",
       "    <tr>\n",
       "      <th>4</th>\n",
       "      <td>008ZL2D1PLC4O</td>\n",
       "      <td>US</td>\n",
       "      <td>712.548448</td>\n",
       "      <td>2</td>\n",
       "    </tr>\n",
       "  </tbody>\n",
       "</table>\n",
       "</div>"
      ],
      "text/plain": [
       "      session_id country     distance  city_pairs\n",
       "0  0004TZ56GY6S7      DE  2432.915569           2\n",
       "1  004M08GLQ7ZXH      US          NaN           1\n",
       "2  007O320DQ7AXT                  NaN           1\n",
       "3  007UIISVZJOW5      DE          NaN           1\n",
       "4  008ZL2D1PLC4O      US   712.548448           2"
      ]
     },
     "execution_count": 202,
     "metadata": {},
     "output_type": "execute_result"
    }
   ],
   "source": [
    "df_dist_session.head()"
   ]
  },
  {
   "cell_type": "code",
   "execution_count": 210,
   "id": "04852a34",
   "metadata": {},
   "outputs": [
    {
     "data": {
      "text/plain": [
       "count    9350.000000\n",
       "mean      656.647254\n",
       "std       801.681976\n",
       "min         1.127851\n",
       "10%        24.275438\n",
       "20%        54.029923\n",
       "30%        98.213827\n",
       "40%       146.729902\n",
       "50%       239.438932\n",
       "75%      1203.501478\n",
       "max      2555.200813\n",
       "Name: distance, dtype: float64"
      ]
     },
     "execution_count": 210,
     "metadata": {},
     "output_type": "execute_result"
    }
   ],
   "source": [
    "df_dist_session['distance'].describe(percentiles=[.1, .2, .3, .4, .5, .75])"
   ]
  },
  {
   "cell_type": "code",
   "execution_count": 205,
   "id": "d4df2a68",
   "metadata": {},
   "outputs": [
    {
     "data": {
      "text/html": [
       "<div>\n",
       "<style scoped>\n",
       "    .dataframe tbody tr th:only-of-type {\n",
       "        vertical-align: middle;\n",
       "    }\n",
       "\n",
       "    .dataframe tbody tr th {\n",
       "        vertical-align: top;\n",
       "    }\n",
       "\n",
       "    .dataframe thead th {\n",
       "        text-align: right;\n",
       "    }\n",
       "</style>\n",
       "<table border=\"1\" class=\"dataframe\">\n",
       "  <thead>\n",
       "    <tr style=\"text-align: right;\">\n",
       "      <th></th>\n",
       "      <th>count</th>\n",
       "      <th>mean</th>\n",
       "      <th>std</th>\n",
       "      <th>min</th>\n",
       "      <th>10%</th>\n",
       "      <th>20%</th>\n",
       "      <th>30%</th>\n",
       "      <th>40%</th>\n",
       "      <th>50%</th>\n",
       "      <th>75%</th>\n",
       "      <th>max</th>\n",
       "    </tr>\n",
       "    <tr>\n",
       "      <th>city_pairs</th>\n",
       "      <th></th>\n",
       "      <th></th>\n",
       "      <th></th>\n",
       "      <th></th>\n",
       "      <th></th>\n",
       "      <th></th>\n",
       "      <th></th>\n",
       "      <th></th>\n",
       "      <th></th>\n",
       "      <th></th>\n",
       "      <th></th>\n",
       "    </tr>\n",
       "  </thead>\n",
       "  <tbody>\n",
       "    <tr>\n",
       "      <th>1</th>\n",
       "      <td>0.0</td>\n",
       "      <td>NaN</td>\n",
       "      <td>NaN</td>\n",
       "      <td>NaN</td>\n",
       "      <td>NaN</td>\n",
       "      <td>NaN</td>\n",
       "      <td>NaN</td>\n",
       "      <td>NaN</td>\n",
       "      <td>NaN</td>\n",
       "      <td>NaN</td>\n",
       "      <td>NaN</td>\n",
       "    </tr>\n",
       "    <tr>\n",
       "      <th>2</th>\n",
       "      <td>6905.0</td>\n",
       "      <td>796.930693</td>\n",
       "      <td>853.910949</td>\n",
       "      <td>1.127851</td>\n",
       "      <td>29.843506</td>\n",
       "      <td>80.530832</td>\n",
       "      <td>122.193615</td>\n",
       "      <td>250.779145</td>\n",
       "      <td>342.529171</td>\n",
       "      <td>1418.884458</td>\n",
       "      <td>2555.200813</td>\n",
       "    </tr>\n",
       "    <tr>\n",
       "      <th>3</th>\n",
       "      <td>1619.0</td>\n",
       "      <td>310.949122</td>\n",
       "      <td>503.412193</td>\n",
       "      <td>5.921089</td>\n",
       "      <td>20.132987</td>\n",
       "      <td>35.769966</td>\n",
       "      <td>53.707821</td>\n",
       "      <td>67.546275</td>\n",
       "      <td>113.254267</td>\n",
       "      <td>230.755072</td>\n",
       "      <td>1987.264776</td>\n",
       "    </tr>\n",
       "    <tr>\n",
       "      <th>6</th>\n",
       "      <td>566.0</td>\n",
       "      <td>164.131467</td>\n",
       "      <td>231.755132</td>\n",
       "      <td>11.514455</td>\n",
       "      <td>33.452680</td>\n",
       "      <td>42.131482</td>\n",
       "      <td>54.987768</td>\n",
       "      <td>77.552803</td>\n",
       "      <td>117.259171</td>\n",
       "      <td>182.774378</td>\n",
       "      <td>1630.008497</td>\n",
       "    </tr>\n",
       "    <tr>\n",
       "      <th>10</th>\n",
       "      <td>178.0</td>\n",
       "      <td>146.657092</td>\n",
       "      <td>92.076454</td>\n",
       "      <td>14.111740</td>\n",
       "      <td>46.834258</td>\n",
       "      <td>53.660930</td>\n",
       "      <td>84.329238</td>\n",
       "      <td>115.577691</td>\n",
       "      <td>140.785393</td>\n",
       "      <td>190.191245</td>\n",
       "      <td>387.686424</td>\n",
       "    </tr>\n",
       "    <tr>\n",
       "      <th>15</th>\n",
       "      <td>61.0</td>\n",
       "      <td>159.582131</td>\n",
       "      <td>83.150738</td>\n",
       "      <td>43.444122</td>\n",
       "      <td>53.569602</td>\n",
       "      <td>106.883806</td>\n",
       "      <td>131.396878</td>\n",
       "      <td>140.976676</td>\n",
       "      <td>151.628063</td>\n",
       "      <td>175.176107</td>\n",
       "      <td>413.044318</td>\n",
       "    </tr>\n",
       "    <tr>\n",
       "      <th>21</th>\n",
       "      <td>16.0</td>\n",
       "      <td>224.300643</td>\n",
       "      <td>81.841822</td>\n",
       "      <td>111.374608</td>\n",
       "      <td>145.280416</td>\n",
       "      <td>162.165808</td>\n",
       "      <td>164.369681</td>\n",
       "      <td>188.102440</td>\n",
       "      <td>209.759526</td>\n",
       "      <td>287.158158</td>\n",
       "      <td>397.153317</td>\n",
       "    </tr>\n",
       "    <tr>\n",
       "      <th>28</th>\n",
       "      <td>3.0</td>\n",
       "      <td>183.679729</td>\n",
       "      <td>38.190126</td>\n",
       "      <td>152.683902</td>\n",
       "      <td>156.549678</td>\n",
       "      <td>160.415453</td>\n",
       "      <td>164.281228</td>\n",
       "      <td>168.147004</td>\n",
       "      <td>172.012779</td>\n",
       "      <td>199.177642</td>\n",
       "      <td>226.342506</td>\n",
       "    </tr>\n",
       "    <tr>\n",
       "      <th>36</th>\n",
       "      <td>1.0</td>\n",
       "      <td>242.793469</td>\n",
       "      <td>NaN</td>\n",
       "      <td>242.793469</td>\n",
       "      <td>242.793469</td>\n",
       "      <td>242.793469</td>\n",
       "      <td>242.793469</td>\n",
       "      <td>242.793469</td>\n",
       "      <td>242.793469</td>\n",
       "      <td>242.793469</td>\n",
       "      <td>242.793469</td>\n",
       "    </tr>\n",
       "    <tr>\n",
       "      <th>55</th>\n",
       "      <td>1.0</td>\n",
       "      <td>298.237237</td>\n",
       "      <td>NaN</td>\n",
       "      <td>298.237237</td>\n",
       "      <td>298.237237</td>\n",
       "      <td>298.237237</td>\n",
       "      <td>298.237237</td>\n",
       "      <td>298.237237</td>\n",
       "      <td>298.237237</td>\n",
       "      <td>298.237237</td>\n",
       "      <td>298.237237</td>\n",
       "    </tr>\n",
       "  </tbody>\n",
       "</table>\n",
       "</div>"
      ],
      "text/plain": [
       "             count        mean         std         min         10%  \\\n",
       "city_pairs                                                           \n",
       "1              0.0         NaN         NaN         NaN         NaN   \n",
       "2           6905.0  796.930693  853.910949    1.127851   29.843506   \n",
       "3           1619.0  310.949122  503.412193    5.921089   20.132987   \n",
       "6            566.0  164.131467  231.755132   11.514455   33.452680   \n",
       "10           178.0  146.657092   92.076454   14.111740   46.834258   \n",
       "15            61.0  159.582131   83.150738   43.444122   53.569602   \n",
       "21            16.0  224.300643   81.841822  111.374608  145.280416   \n",
       "28             3.0  183.679729   38.190126  152.683902  156.549678   \n",
       "36             1.0  242.793469         NaN  242.793469  242.793469   \n",
       "55             1.0  298.237237         NaN  298.237237  298.237237   \n",
       "\n",
       "                   20%         30%         40%         50%          75%  \\\n",
       "city_pairs                                                                \n",
       "1                  NaN         NaN         NaN         NaN          NaN   \n",
       "2            80.530832  122.193615  250.779145  342.529171  1418.884458   \n",
       "3            35.769966   53.707821   67.546275  113.254267   230.755072   \n",
       "6            42.131482   54.987768   77.552803  117.259171   182.774378   \n",
       "10           53.660930   84.329238  115.577691  140.785393   190.191245   \n",
       "15          106.883806  131.396878  140.976676  151.628063   175.176107   \n",
       "21          162.165808  164.369681  188.102440  209.759526   287.158158   \n",
       "28          160.415453  164.281228  168.147004  172.012779   199.177642   \n",
       "36          242.793469  242.793469  242.793469  242.793469   242.793469   \n",
       "55          298.237237  298.237237  298.237237  298.237237   298.237237   \n",
       "\n",
       "                    max  \n",
       "city_pairs               \n",
       "1                   NaN  \n",
       "2           2555.200813  \n",
       "3           1987.264776  \n",
       "6           1630.008497  \n",
       "10           387.686424  \n",
       "15           413.044318  \n",
       "21           397.153317  \n",
       "28           226.342506  \n",
       "36           242.793469  \n",
       "55           298.237237  "
      ]
     },
     "execution_count": 205,
     "metadata": {},
     "output_type": "execute_result"
    }
   ],
   "source": [
    "df_dist_session.groupby('city_pairs')['distance'].describe(percentiles=[.1, .2, .3, .4, .5, .75])"
   ]
  },
  {
   "cell_type": "markdown",
   "id": "1b56313a",
   "metadata": {},
   "source": [
    "### Part 3 -> User intent classification"
   ]
  },
  {
   "cell_type": "markdown",
   "id": "2c8df7d0",
   "metadata": {},
   "source": [
    "When it comes to segregating customers, it's important to consider the intent of the company after the segmentation. For example, if the company plans to run a targeted marketing campaign, the amount they want to spend, and what actions they want these users to take. Therefore, before making any clusters, it's crucial to determine what the next steps are.\n",
    "\n",
    "1. We should ignore people who are just searching for 1 or 2 city only.\n",
    "2. People travelling to 3 different cities may be we can consider median distance as the cutoff, who are doing less distance than the cutoff are 'high intent' rest are 'low intent'\n",
    "3. For people who are searching more than 3 cities and having avg distance between cities comes out to be less than 240 miles [median of whole dataset]"
   ]
  },
  {
   "cell_type": "code",
   "execution_count": 219,
   "id": "4c74a836",
   "metadata": {},
   "outputs": [
    {
     "data": {
      "text/html": [
       "<div>\n",
       "<style scoped>\n",
       "    .dataframe tbody tr th:only-of-type {\n",
       "        vertical-align: middle;\n",
       "    }\n",
       "\n",
       "    .dataframe tbody tr th {\n",
       "        vertical-align: top;\n",
       "    }\n",
       "\n",
       "    .dataframe thead th {\n",
       "        text-align: right;\n",
       "    }\n",
       "</style>\n",
       "<table border=\"1\" class=\"dataframe\">\n",
       "  <thead>\n",
       "    <tr style=\"text-align: right;\">\n",
       "      <th></th>\n",
       "      <th>session_id</th>\n",
       "      <th>country</th>\n",
       "      <th>distance</th>\n",
       "      <th>city_pairs</th>\n",
       "      <th>intent</th>\n",
       "    </tr>\n",
       "  </thead>\n",
       "  <tbody>\n",
       "    <tr>\n",
       "      <th>0</th>\n",
       "      <td>0004TZ56GY6S7</td>\n",
       "      <td>DE</td>\n",
       "      <td>2432.915569</td>\n",
       "      <td>2</td>\n",
       "      <td>Low-intent</td>\n",
       "    </tr>\n",
       "    <tr>\n",
       "      <th>1</th>\n",
       "      <td>004M08GLQ7ZXH</td>\n",
       "      <td>US</td>\n",
       "      <td>NaN</td>\n",
       "      <td>1</td>\n",
       "      <td>Low-intent</td>\n",
       "    </tr>\n",
       "    <tr>\n",
       "      <th>2</th>\n",
       "      <td>007O320DQ7AXT</td>\n",
       "      <td></td>\n",
       "      <td>NaN</td>\n",
       "      <td>1</td>\n",
       "      <td>Low-intent</td>\n",
       "    </tr>\n",
       "    <tr>\n",
       "      <th>3</th>\n",
       "      <td>007UIISVZJOW5</td>\n",
       "      <td>DE</td>\n",
       "      <td>NaN</td>\n",
       "      <td>1</td>\n",
       "      <td>Low-intent</td>\n",
       "    </tr>\n",
       "    <tr>\n",
       "      <th>4</th>\n",
       "      <td>008ZL2D1PLC4O</td>\n",
       "      <td>US</td>\n",
       "      <td>712.548448</td>\n",
       "      <td>2</td>\n",
       "      <td>Low-intent</td>\n",
       "    </tr>\n",
       "  </tbody>\n",
       "</table>\n",
       "</div>"
      ],
      "text/plain": [
       "      session_id country     distance  city_pairs      intent\n",
       "0  0004TZ56GY6S7      DE  2432.915569           2  Low-intent\n",
       "1  004M08GLQ7ZXH      US          NaN           1  Low-intent\n",
       "2  007O320DQ7AXT                  NaN           1  Low-intent\n",
       "3  007UIISVZJOW5      DE          NaN           1  Low-intent\n",
       "4  008ZL2D1PLC4O      US   712.548448           2  Low-intent"
      ]
     },
     "execution_count": 219,
     "metadata": {},
     "output_type": "execute_result"
    }
   ],
   "source": [
    "def get_intent(row):\n",
    "    if (row['city_pairs'] == 3) and (row['distance']<=113):\n",
    "        row['intent'] = 'High-intent'\n",
    "        return row\n",
    "    elif (row['city_pairs'] > 3) and (row['distance']<=240):\n",
    "        row['intent'] = 'High-intent'\n",
    "        return row\n",
    "    else:\n",
    "        row['intent'] = 'Low-intent'\n",
    "        return row\n",
    "    \n",
    "df_dist_session = df_dist_session.apply(get_intent, axis=1)\n",
    "df_dist_session.head()"
   ]
  },
  {
   "cell_type": "code",
   "execution_count": 220,
   "id": "2bcefef1",
   "metadata": {},
   "outputs": [
    {
     "data": {
      "text/plain": [
       "<AxesSubplot: xlabel='intent', ylabel='count'>"
      ]
     },
     "execution_count": 220,
     "metadata": {},
     "output_type": "execute_result"
    },
    {
     "data": {
      "image/png": "[encoded data removed]",
      "text/plain": [
       "<Figure size 640x480 with 1 Axes>"
      ]
     },
     "metadata": {},
     "output_type": "display_data"
    }
   ],
   "source": [
    "sns.countplot(data=df_dist_session, x='intent')"
   ]
  },
  {
   "cell_type": "code",
   "execution_count": null,
   "id": "157a74c8",
   "metadata": {},
   "outputs": [],
   "source": []
  }
 ],
 "metadata": {
  "kernelspec": {
   "display_name": "Python 3 (ipykernel)",
   "language": "python",
   "name": "python3"
  },
  "language_info": {
   "codemirror_mode": {
    "name": "ipython",
    "version": 3
   },
   "file_extension": ".py",
   "mimetype": "text/x-python",
   "name": "python",
   "nbconvert_exporter": "python",
   "pygments_lexer": "ipython3",
   "version": "3.9.13"
  }
 },
 "nbformat": 4,
 "nbformat_minor": 5
}
